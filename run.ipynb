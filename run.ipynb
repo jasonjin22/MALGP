{
 "cells": [
  {
   "cell_type": "code",
   "execution_count": 1,
   "metadata": {},
   "outputs": [],
   "source": [
    "import numpy as np\n",
    "import scipy.io as io\n",
    "from sklearn.model_selection import train_test_split\n",
    "from sklearn.model_selection import KFold\n",
    "import imp"
   ]
  },
  {
   "cell_type": "code",
   "execution_count": 2,
   "metadata": {},
   "outputs": [],
   "source": [
    "# data_path = \"../ALMVL/datasets/mvdata/handwritten.mat\"\n",
    "data_path = \"./datasets/mvdata/Caltech101-7.mat\"\n",
    "mat = io.loadmat(data_path)"
   ]
  },
  {
   "cell_type": "code",
   "execution_count": 3,
   "metadata": {},
   "outputs": [],
   "source": [
    "X1 = mat[\"X\"][0][4][:870, :]\n",
    "X2 = mat[\"X\"][0][5][:870, :]\n",
    "y = mat[\"Y\"][:870].squeeze().astype('int16')\n",
    "X1 = X1.astype('float64')\n",
    "X2 = X2.astype('float64')\n",
    "# print(y)\n",
    "y[np.where(y == 1)] = -1\n",
    "y[np.where(y == 2)] = 1\n",
    "# print(y)"
   ]
  },
  {
   "cell_type": "code",
   "execution_count": 4,
   "metadata": {
    "scrolled": false
   },
   "outputs": [
    {
     "name": "stdout",
     "output_type": "stream",
     "text": [
      "827\n",
      "43\n",
      "Matlab start\n",
      "S_t:  43\n",
      "U_t:  827\n",
      "Matlab start\n",
      "S_t:  44\n",
      "U_t:  2\n",
      "Matlab start\n",
      "S_t:  45\n",
      "U_t:  1\n",
      "size_C:  825 size_S:  45 size_U:  0\n",
      "1.0\n",
      "sample rate:  0.05172413793103448\n"
     ]
    }
   ],
   "source": [
    "from state import State\n",
    "from state import sampled_set_to_numpy_array\n",
    "N = X1.shape[0]\n",
    "dim1 = X1.shape[1]\n",
    "dim2 = X2.shape[1]\n",
    "dimensions = {1: dim1, 2: dim2}\n",
    "num_views = 2\n",
    "\n",
    "state = State(N, num_views, dimensions)\n",
    "state.add_points_into_U_t(X1, X2, y)\n",
    "state.sampling_init(0.05)\n",
    "\n",
    "while(len(state.U_t) > 0):\n",
    "    state.modeling()\n",
    "    state.sampling()\n",
    "\n",
    "state.testing()\n"
   ]
  },
  {
   "cell_type": "code",
   "execution_count": null,
   "metadata": {},
   "outputs": [],
   "source": []
  }
 ],
 "metadata": {
  "kernelspec": {
   "display_name": "Python [conda env:ALMVL] *",
   "language": "python",
   "name": "conda-env-ALMVL-py"
  },
  "language_info": {
   "codemirror_mode": {
    "name": "ipython",
    "version": 3
   },
   "file_extension": ".py",
   "mimetype": "text/x-python",
   "name": "python",
   "nbconvert_exporter": "python",
   "pygments_lexer": "ipython3",
   "version": "3.6.10"
  }
 },
 "nbformat": 4,
 "nbformat_minor": 4
}
