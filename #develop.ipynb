{
 "cells": [
  {
   "cell_type": "code",
   "execution_count": 86,
   "metadata": {},
   "outputs": [],
   "source": [
    "import random\n",
    "import numpy as np\n",
    "from scipy.optimize import minimize"
   ]
  },
  {
   "cell_type": "code",
   "execution_count": 20,
   "metadata": {},
   "outputs": [
    {
     "data": {
      "text/plain": [
       "array([[0.59220764, 0.19702821, 0.26924554]])"
      ]
     },
     "execution_count": 20,
     "metadata": {},
     "output_type": "execute_result"
    }
   ],
   "source": [
    "np.random.random((1,3))\n"
   ]
  },
  {
   "cell_type": "code",
   "execution_count": 33,
   "metadata": {},
   "outputs": [
    {
     "name": "stdout",
     "output_type": "stream",
     "text": [
      "[[-1]\n",
      " [ 1]\n",
      " [ 1]\n",
      " [ 1]\n",
      " [-1]\n",
      " [-1]\n",
      " [-1]\n",
      " [ 1]\n",
      " [ 1]\n",
      " [ 1]]\n",
      "[{0: array([[0.54677592, 0.77122567]]), 1: array([[0.44955297, 0.37366502, 0.29564167]])}, {0: array([[0.90246079, 0.9806609 ]]), 1: array([[0.93421342, 0.91938803, 0.6332184 ]])}, {0: array([[0.5831904 , 0.07170115]]), 1: array([[0.46603263, 0.20958875, 0.73081446]])}, {0: array([[0.47713206, 0.31765667]]), 1: array([[0.83274814, 0.91318138, 0.49768693]])}, {0: array([[0.55698515, 0.09418115]]), 1: array([[0.42498101, 0.60549777, 0.69846496]])}, {0: array([[0.92355087, 0.87704291]]), 1: array([[0.98008731, 0.84556952, 0.59344168]])}, {0: array([[0.51523902, 0.44489308]]), 1: array([[0.01129934, 0.98354954, 0.26929589]])}, {0: array([[0.55122197, 0.85590211]]), 1: array([[0.24067043, 0.16619771, 0.20575334]])}, {0: array([[0.30365086, 0.77560078]]), 1: array([[0.1804141 , 0.70662968, 0.39650927]])}, {0: array([[0.23884786, 0.79839158]]), 1: array([[0.87072032, 0.66618508, 0.74208244]])}]\n"
     ]
    }
   ],
   "source": [
    "def generate_toy_data(N, num_views):\n",
    "    d = [2, 3]\n",
    "    y = np.random.randint(-1,2,size=[N,1])\n",
    "    X = []\n",
    "\n",
    "    # generate y\n",
    "    for i in range(len(y)):\n",
    "        if y[i][0] == 0:\n",
    "            if random.random() < 0.5:\n",
    "                y[i][0] = -1\n",
    "            else:\n",
    "                y[i][0] = 1\n",
    "    print(y)\n",
    "    \n",
    "    for i in range(N):\n",
    "        new_point = {}\n",
    "        for j in range(num_views):\n",
    "            new_point[j] = np.random.random((1,d[j]))\n",
    "        X.append(new_point)\n",
    "    print(X)\n",
    "    return X, y\n",
    "\n",
    "X, y = generate_toy_data(10, 2)"
   ]
  },
  {
   "cell_type": "code",
   "execution_count": 58,
   "metadata": {},
   "outputs": [
    {
     "name": "stdout",
     "output_type": "stream",
     "text": [
      "[[0.54677592 0.77122567]\n",
      " [0.90246079 0.9806609 ]\n",
      " [0.5831904  0.07170115]\n",
      " [0.47713206 0.31765667]\n",
      " [0.55698515 0.09418115]\n",
      " [0.92355087 0.87704291]\n",
      " [0.51523902 0.44489308]\n",
      " [0.55122197 0.85590211]\n",
      " [0.30365086 0.77560078]\n",
      " [0.23884786 0.79839158]]\n",
      "[[0.44955297 0.37366502 0.29564167]\n",
      " [0.93421342 0.91938803 0.6332184 ]\n",
      " [0.46603263 0.20958875 0.73081446]\n",
      " [0.83274814 0.91318138 0.49768693]\n",
      " [0.42498101 0.60549777 0.69846496]\n",
      " [0.98008731 0.84556952 0.59344168]\n",
      " [0.01129934 0.98354954 0.26929589]\n",
      " [0.24067043 0.16619771 0.20575334]\n",
      " [0.1804141  0.70662968 0.39650927]\n",
      " [0.87072032 0.66618508 0.74208244]]\n"
     ]
    }
   ],
   "source": [
    "X1 = np.zeros((10, 2))\n",
    "X2 = np.zeros((10, 3))\n",
    "\n",
    "for i in range(len(X)):\n",
    "    X1[i] = X[i][0][0]\n",
    "    X2[i] = X[i][1][0]\n",
    "print(X1)\n",
    "print(X2)"
   ]
  },
  {
   "cell_type": "code",
   "execution_count": 82,
   "metadata": {},
   "outputs": [],
   "source": [
    "def k1(a, b, s, l):\n",
    "    diff = a - b\n",
    "    result = s * np.exp(np.inner(diff, diff) / (-2 * l))\n",
    "#     print(\"result\", result)\n",
    "    return result\n",
    "\n",
    "def k2(a, b, s, l):\n",
    "    diff = a - b\n",
    "    result = s * np.exp(np.inner(diff, diff) / (-2 * l))\n",
    "#     print(\"result\", result)\n",
    "    return result"
   ]
  },
  {
   "cell_type": "code",
   "execution_count": 46,
   "metadata": {},
   "outputs": [
    {
     "name": "stdout",
     "output_type": "stream",
     "text": [
      "[0.54677592 0.77122567] [0.90246079 0.9806609 ]\n",
      "result 0.918340153175999\n"
     ]
    },
    {
     "data": {
      "text/plain": [
       "0.918340153175999"
      ]
     },
     "execution_count": 46,
     "metadata": {},
     "output_type": "execute_result"
    }
   ],
   "source": [
    "a = X[0][0][0]\n",
    "b = X[1][0][0]\n",
    "print(a, b)\n",
    "np.inner(a, b)\n",
    "k1(a, b, 1, 1)"
   ]
  },
  {
   "cell_type": "code",
   "execution_count": 127,
   "metadata": {},
   "outputs": [
    {
     "data": {
      "text/plain": [
       "array([[69647.89355688]])"
      ]
     },
     "execution_count": 127,
     "metadata": {},
     "output_type": "execute_result"
    }
   ],
   "source": [
    "# the optimization variables\n",
    "# [s1, l1, sigma1, s2, l2, sigma2]\n",
    "N = 10\n",
    "fixed_para = {'X1': X1, 'X2': X2, 'y': y}\n",
    "x0 = [1, 1, 1, 1, 1, 1]\n",
    "def obj_func(x_0, fixed_para):\n",
    "    s1, l1, sigma1, s2, l2, sigma2 = x_0\n",
    "    X1 = fixed_para['X1']\n",
    "    X2 = fixed_para['X2']\n",
    "    y = fixed_para['y']\n",
    "    # construct K1\n",
    "    K1 = np.zeros((N, N))\n",
    "    for i in range(N):\n",
    "        for j in range(N):\n",
    "            K1[i][j] = k1(X1[i], X1[j], s1, l1)\n",
    "#     print(\"K1: \\n\", K1, np.linalg.det(K1))\n",
    "\n",
    "    \n",
    "    K1_plus = K1 + sigma1 * np.eye(N)\n",
    "    inv_K1_plus = np.linalg.inv(K1_plus)\n",
    "\n",
    "    likelihood_1 = -0.5 * np.dot(np.dot(y.T, inv_K1_plus), y) - 0.5 * np.log(np.linalg.det(K1_plus)) - N/2*np.log(2*np.pi)\n",
    "\n",
    "    \n",
    "    # construct K2\n",
    "    K2 = np.zeros((N, N))\n",
    "    for i in range(N):\n",
    "        for j in range(N):\n",
    "            K2[i][j] = k2(X2[i], X2[j], s2, l2)\n",
    "#     print(\"K2: \\n\", K2, np.linalg.det(K2))\n",
    "    K2_plus = K2 + sigma2 * np.eye(N)\n",
    "    inv_K2_plus = np.linalg.inv(K2_plus)\n",
    "\n",
    "    likelihood_2 = -0.5 * np.dot(np.dot(y.T, inv_K2_plus), y) - 0.5 * np.log(np.linalg.det(K2_plus)) - N/2*np.log(2*np.pi)\n",
    "    \n",
    "    \n",
    "    # construct mu_1, mu_2, Sigma_1, Sigma_2\n",
    "    mu_1 = np.dot(np.dot(K1, inv_K1_plus), y)\n",
    "    mu_2 = np.dot(np.dot(K2, inv_K2_plus), y)\n",
    "    \n",
    "    Sigma_1 = K1 - np.dot(np.dot(K1, inv_K1_plus), K1)\n",
    "    Sigma_2 = K2 - np.dot(np.dot(K2, inv_K2_plus), K2)\n",
    "    inv_Sigma_1 = np.linalg.inv(Sigma_1)\n",
    "    inv_Sigma_2 = np.linalg.inv(Sigma_2)\n",
    "    \n",
    "    KL_12 = 0.5 * (np.log(np.linalg.det(Sigma_2)) - np.log(np.linalg.det(Sigma_1))\\\n",
    "                   + np.trace(np.dot(inv_Sigma_2, Sigma_1)) + np.dot(np.dot((mu_2 - mu_1).T, inv_Sigma_2), mu_2 - mu_1) - N)\n",
    "    \n",
    "    KL_21 = 0.5 * (np.log(np.linalg.det(Sigma_1)) - np.log(np.linalg.det(Sigma_2))\\\n",
    "                   + np.trace(np.dot(inv_Sigma_1, Sigma_2)) + np.dot(np.dot((mu_1 - mu_2).T, inv_Sigma_1), mu_1 - mu_2) - N)\n",
    "    \n",
    "    return -(likelihood_1 + likelihood_2) + KL_12 + KL_21\n",
    "\n",
    "\n",
    "obj_func(x0, fixed_para)"
   ]
  },
  {
   "cell_type": "code",
   "execution_count": 133,
   "metadata": {},
   "outputs": [
    {
     "name": "stderr",
     "output_type": "stream",
     "text": [
      "/Users/orres/anaconda3/envs/PAL/lib/python3.7/site-packages/ipykernel_launcher.py:1: OptimizeWarning: Unknown solver options: maxfevint\n",
      "  \"\"\"Entry point for launching an IPython kernel.\n",
      "/Users/orres/anaconda3/envs/PAL/lib/python3.7/site-packages/ipykernel_launcher.py:22: RuntimeWarning: invalid value encountered in log\n",
      "/Users/orres/anaconda3/envs/PAL/lib/python3.7/site-packages/ipykernel_launcher.py:47: RuntimeWarning: invalid value encountered in log\n",
      "/Users/orres/anaconda3/envs/PAL/lib/python3.7/site-packages/ipykernel_launcher.py:50: RuntimeWarning: invalid value encountered in log\n",
      "/Users/orres/anaconda3/envs/PAL/lib/python3.7/site-packages/ipykernel_launcher.py:34: RuntimeWarning: invalid value encountered in log\n",
      "/Users/orres/anaconda3/envs/PAL/lib/python3.7/site-packages/ipykernel_launcher.py:3: RuntimeWarning: overflow encountered in exp\n",
      "  This is separate from the ipykernel package so we can avoid doing imports until\n",
      "/Users/orres/anaconda3/envs/PAL/lib/python3.7/site-packages/ipykernel_launcher.py:9: RuntimeWarning: overflow encountered in exp\n",
      "  if __name__ == '__main__':\n",
      "/Users/orres/anaconda3/envs/PAL/lib/python3.7/site-packages/ipykernel_launcher.py:47: RuntimeWarning: divide by zero encountered in log\n",
      "/Users/orres/anaconda3/envs/PAL/lib/python3.7/site-packages/ipykernel_launcher.py:50: RuntimeWarning: divide by zero encountered in log\n",
      "/Users/orres/anaconda3/envs/PAL/lib/python3.7/site-packages/ipykernel_launcher.py:52: RuntimeWarning: invalid value encountered in add\n"
     ]
    },
    {
     "name": "stdout",
     "output_type": "stream",
     "text": [
      "Optimization terminated successfully.\n",
      "         Current function value: -11462018768792656942029955033245676080177128899083905889456909320520365633811407926672852544625640231827884779573868968005533852177090478080.000000\n",
      "         Iterations: 1087\n",
      "         Function evaluations: 2024\n"
     ]
    },
    {
     "data": {
      "text/plain": [
       " final_simplex: (array([[ 1.36054015e+00,  2.26945197e-04, -2.36647771e-16,\n",
       "         2.78184825e+00,  4.85365298e-03,  2.41896099e-02],\n",
       "       [ 1.36054015e+00,  2.26945197e-04, -2.36647769e-16,\n",
       "         2.78184825e+00,  4.85365298e-03,  2.41896099e-02],\n",
       "       [ 1.36054015e+00,  2.26945197e-04, -2.36647773e-16,\n",
       "         2.78184825e+00,  4.85365298e-03,  2.41896099e-02],\n",
       "       [ 1.36054015e+00,  2.26945197e-04, -2.36647770e-16,\n",
       "         2.78184825e+00,  4.85365298e-03,  2.41896099e-02],\n",
       "       [ 1.36054015e+00,  2.26945197e-04, -2.36647775e-16,\n",
       "         2.78184825e+00,  4.85365298e-03,  2.41896099e-02],\n",
       "       [ 1.36054015e+00,  2.26945197e-04, -2.36647773e-16,\n",
       "         2.78184825e+00,  4.85365298e-03,  2.41896099e-02],\n",
       "       [ 1.36054015e+00,  2.26945197e-04, -2.36647770e-16,\n",
       "         2.78184825e+00,  4.85365298e-03,  2.41896099e-02]]), array([-1.14620188e+139, -1.14620188e+139, -1.14620188e+139,\n",
       "       -1.14620188e+139, -1.14620188e+139, -1.14620188e+139,\n",
       "       -1.14620188e+139]))\n",
       "           fun: -1.1462018768792657e+139\n",
       "       message: 'Optimization terminated successfully.'\n",
       "          nfev: 2024\n",
       "           nit: 1087\n",
       "        status: 0\n",
       "       success: True\n",
       "             x: array([ 1.36054015e+00,  2.26945197e-04, -2.36647771e-16,  2.78184825e+00,\n",
       "        4.85365298e-03,  2.41896099e-02])"
      ]
     },
     "execution_count": 133,
     "metadata": {},
     "output_type": "execute_result"
    }
   ],
   "source": [
    "minimize(obj_func, x0, fixed_para, method='nelder-mead', options={'xatol': 1e-8, 'disp': True, 'maxfevint':10000, 'maxiter':10000})"
   ]
  },
  {
   "cell_type": "code",
   "execution_count": null,
   "metadata": {},
   "outputs": [],
   "source": []
  }
 ],
 "metadata": {
  "kernelspec": {
   "display_name": "Python [conda env:PAL] *",
   "language": "python",
   "name": "conda-env-PAL-py"
  },
  "language_info": {
   "codemirror_mode": {
    "name": "ipython",
    "version": 3
   },
   "file_extension": ".py",
   "mimetype": "text/x-python",
   "name": "python",
   "nbconvert_exporter": "python",
   "pygments_lexer": "ipython3",
   "version": "3.7.7"
  }
 },
 "nbformat": 4,
 "nbformat_minor": 4
}
